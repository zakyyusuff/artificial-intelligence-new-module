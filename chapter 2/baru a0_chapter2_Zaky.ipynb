{
 "cells": [
  {
   "cell_type": "code",
   "execution_count": 1,
   "id": "e86ecf14",
   "metadata": {},
   "outputs": [],
   "source": [
    "# First, ipmort required functions\n",
    "from np_extractor import get_nps_from_text, get_nps_from_tokens\n",
    "import nltk"
   ]
  },
  {
   "cell_type": "code",
   "execution_count": 14,
   "id": "ed0734d4",
   "metadata": {},
   "outputs": [
    {
     "name": "stdout",
     "output_type": "stream",
     "text": [
      "Requirement already satisfied: nltk in c:\\anaconda3\\envs\\zaky\\lib\\site-packages (3.7)\n",
      "Requirement already satisfied: joblib in c:\\anaconda3\\envs\\zaky\\lib\\site-packages (from nltk) (1.1.0)\n",
      "Requirement already satisfied: regex>=2021.8.3 in c:\\anaconda3\\envs\\zaky\\lib\\site-packages (from nltk) (2022.3.15)\n",
      "Requirement already satisfied: click in c:\\anaconda3\\envs\\zaky\\lib\\site-packages (from nltk) (8.0.4)\n",
      "Requirement already satisfied: tqdm in c:\\anaconda3\\envs\\zaky\\lib\\site-packages (from nltk) (4.64.0)\n",
      "Requirement already satisfied: colorama in c:\\anaconda3\\envs\\zaky\\lib\\site-packages (from click->nltk) (0.4.4)\n",
      "Requirement already satisfied: importlib-metadata in c:\\anaconda3\\envs\\zaky\\lib\\site-packages (from click->nltk) (4.11.3)\n",
      "Requirement already satisfied: typing-extensions>=3.6.4 in c:\\anaconda3\\envs\\zaky\\lib\\site-packages (from importlib-metadata->click->nltk) (4.1.1)\n",
      "Requirement already satisfied: zipp>=0.5 in c:\\anaconda3\\envs\\zaky\\lib\\site-packages (from importlib-metadata->click->nltk) (3.8.0)\n",
      "Note: you may need to restart the kernel to use updated packages.\n"
     ]
    }
   ],
   "source": [
    "pip install nltk"
   ]
  },
  {
   "cell_type": "code",
   "execution_count": 5,
   "id": "2c58bac6",
   "metadata": {},
   "outputs": [
    {
     "name": "stdout",
     "output_type": "stream",
     "text": [
      "['1194069 zaky muhammad yusuf d4']\n"
     ]
    }
   ],
   "source": [
    "# If you just want to get NP groups from a text Just call a get_nps_from_text() giving the text as an input.\n",
    "text = '1194069 zaky muhammad yusuf d4 ti 3b.'\n",
    "\n",
    "print(get_nps_from_text(text))"
   ]
  },
  {
   "cell_type": "code",
   "execution_count": null,
   "id": "f1db465f",
   "metadata": {},
   "outputs": [
    {
     "name": "stdout",
     "output_type": "stream",
     "text": [
      "showing info https://raw.githubusercontent.com/nltk/nltk_data/gh-pages/index.xml\n"
     ]
    }
   ],
   "source": [
    "gnltk.download()"
   ]
  },
  {
   "cell_type": "code",
   "execution_count": 3,
   "id": "cc3a980a",
   "metadata": {},
   "outputs": [
    {
     "name": "stderr",
     "output_type": "stream",
     "text": [
      "[nltk_data] Downloading package averaged_perceptron_tagger to\n",
      "[nltk_data]     C:\\Users\\AKU\\AppData\\Roaming\\nltk_data...\n",
      "[nltk_data]   Unzipping taggers\\averaged_perceptron_tagger.zip.\n"
     ]
    },
    {
     "data": {
      "text/plain": [
       "True"
      ]
     },
     "execution_count": 3,
     "metadata": {},
     "output_type": "execute_result"
    }
   ],
   "source": [
    "nltk.download('averaged_perceptron_tagger')"
   ]
  },
  {
   "cell_type": "code",
   "execution_count": 6,
   "id": "ccb37152",
   "metadata": {},
   "outputs": [
    {
     "name": "stdout",
     "output_type": "stream",
     "text": [
      "{'matches': [(0, 4)], 'rules': [('CD', 'JJ', 'NN')], 'matches_text': [['1194069', 'zaky', 'muhammad', 'yusuf', 'd4']]}\n"
     ]
    }
   ],
   "source": [
    "# If you want get some more advanced info on rules which caused mathces and \n",
    "# tokens indecies Use brown-based POS tagger (for instance NLTK) to obtain tagged tokens like this\n",
    "\n",
    "from nltk.tokenize import word_tokenize\n",
    "from nltk import pos_tag\n",
    "\n",
    "print(get_nps_from_tokens(pos_tag(word_tokenize(text))))"
   ]
  },
  {
   "cell_type": "code",
   "execution_count": null,
   "id": "455bbcc2",
   "metadata": {},
   "outputs": [],
   "source": []
  }
 ],
 "metadata": {
  "kernelspec": {
   "display_name": "Python 3 (ipykernel)",
   "language": "python",
   "name": "python3"
  },
  "language_info": {
   "codemirror_mode": {
    "name": "ipython",
    "version": 3
   },
   "file_extension": ".py",
   "mimetype": "text/x-python",
   "name": "python",
   "nbconvert_exporter": "python",
   "pygments_lexer": "ipython3",
   "version": "3.7.13"
  }
 },
 "nbformat": 4,
 "nbformat_minor": 5
}
