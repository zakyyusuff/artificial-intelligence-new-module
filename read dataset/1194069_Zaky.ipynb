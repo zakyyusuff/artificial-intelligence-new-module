{
 "cells": [
  {
   "cell_type": "code",
   "execution_count": 1,
   "id": "c3aea20e",
   "metadata": {},
   "outputs": [],
   "source": [
    "import pandas as pd\n",
    "import numpy as np"
   ]
  },
  {
   "cell_type": "code",
   "execution_count": 2,
   "id": "11f5e693",
   "metadata": {},
   "outputs": [
    {
     "name": "stdout",
     "output_type": "stream",
     "text": [
      "      Make                    Model   Type  Origin DriveTrain     MSRP  \\\n",
      "0    Acura                      MDX    SUV    Asia        All  36945.0   \n",
      "1    Acura           RSX Type S 2dr  Sedan    Asia      Front  23820.0   \n",
      "2    Acura                  TSX 4dr  Sedan    Asia      Front  26990.0   \n",
      "3    Acura                   TL 4dr  Sedan    Asia      Front  33195.0   \n",
      "4    Acura               3.5 RL 4dr  Sedan    Asia      Front  43755.0   \n",
      "..     ...                      ...    ...     ...        ...      ...   \n",
      "423  Volvo  C70 LPT convertible 2dr  Sedan  Europe      Front  40565.0   \n",
      "424  Volvo  C70 HPT convertible 2dr  Sedan  Europe      Front  42565.0   \n",
      "425  Volvo               S80 T6 4dr  Sedan  Europe      Front  45210.0   \n",
      "426  Volvo                      V40  Wagon  Europe      Front  26135.0   \n",
      "427  Volvo                     XC70  Wagon  Europe        All  35145.0   \n",
      "\n",
      "     Invoice  EngineSize  Cylinders  Horsepower  MPG_City  MPG_Highway  \\\n",
      "0    33337.0         3.5        6.0       265.0      17.0         23.0   \n",
      "1    21761.0         2.0        4.0       200.0      24.0         31.0   \n",
      "2    24647.0         2.4        4.0       200.0      22.0         29.0   \n",
      "3    30299.0         3.2        6.0       270.0      20.0         28.0   \n",
      "4    39014.0         3.5        6.0       225.0      18.0         24.0   \n",
      "..       ...         ...        ...         ...       ...          ...   \n",
      "423  38203.0         2.4        5.0       197.0      21.0         28.0   \n",
      "424  40083.0         2.3        5.0       242.0      20.0         26.0   \n",
      "425  42573.0         2.9        6.0       268.0      19.0         26.0   \n",
      "426  24641.0         1.9        4.0       170.0      22.0         29.0   \n",
      "427  33112.0         2.5        5.0       208.0      20.0         27.0   \n",
      "\n",
      "     Weight  Wheelbase  Length  \n",
      "0    4451.0      106.0   189.0  \n",
      "1    2778.0      101.0   172.0  \n",
      "2    3230.0      105.0   183.0  \n",
      "3    3575.0      108.0   186.0  \n",
      "4    3880.0      115.0   197.0  \n",
      "..      ...        ...     ...  \n",
      "423  3450.0      105.0   186.0  \n",
      "424  3450.0      105.0   186.0  \n",
      "425  3653.0      110.0   190.0  \n",
      "426  2822.0      101.0   180.0  \n",
      "427  3823.0      109.0   186.0  \n",
      "\n",
      "[428 rows x 15 columns]\n"
     ]
    }
   ],
   "source": [
    "zaky = pd.read_csv('./cars.csv')\n",
    "print(zaky)"
   ]
  },
  {
   "cell_type": "code",
   "execution_count": 3,
   "id": "032f547d",
   "metadata": {},
   "outputs": [
    {
     "name": "stdout",
     "output_type": "stream",
     "text": [
      "    Make Model Type Origin DriveTrain     MSRP  Invoice  EngineSize  \\\n",
      "0  Acura   MDX  SUV   Asia        All  36945.0  33337.0         3.5   \n",
      "\n",
      "   Cylinders  Horsepower  MPG_City  MPG_Highway  Weight  Wheelbase  Length  \n",
      "0        6.0       265.0      17.0         23.0  4451.0      106.0   189.0  \n"
     ]
    }
   ],
   "source": [
    "print(zaky[:1])"
   ]
  },
  {
   "cell_type": "code",
   "execution_count": 6,
   "id": "51cde118",
   "metadata": {},
   "outputs": [
    {
     "name": "stdout",
     "output_type": "stream",
     "text": [
      "     Make                           Model    Type  Origin DriveTrain     MSRP  \\\n",
      "0   Acura                             MDX     SUV    Asia        All  36945.0   \n",
      "1   Acura                  RSX Type S 2dr   Sedan    Asia      Front  23820.0   \n",
      "2   Acura                         TSX 4dr   Sedan    Asia      Front  26990.0   \n",
      "3   Acura                          TL 4dr   Sedan    Asia      Front  33195.0   \n",
      "4   Acura                      3.5 RL 4dr   Sedan    Asia      Front  43755.0   \n",
      "5   Acura         3.5 RL w/Navigation 4dr   Sedan    Asia      Front  46100.0   \n",
      "6   Acura          NSX coupe 2dr manual S  Sports    Asia       Rear  89765.0   \n",
      "7    Audi                     A4 1.8T 4dr   Sedan  Europe      Front  25940.0   \n",
      "8    Audi          A41.8T convertible 2dr   Sedan  Europe      Front  35940.0   \n",
      "9    Audi                      A4 3.0 4dr   Sedan  Europe      Front  31840.0   \n",
      "10   Audi       A4 3.0 Quattro 4dr manual   Sedan  Europe        All  33430.0   \n",
      "11   Audi         A4 3.0 Quattro 4dr auto   Sedan  Europe        All  34480.0   \n",
      "12   Audi                      A6 3.0 4dr   Sedan  Europe      Front  36640.0   \n",
      "13   Audi              A6 3.0 Quattro 4dr   Sedan  Europe        All  39640.0   \n",
      "14   Audi          A4 3.0 convertible 2dr   Sedan  Europe      Front  42490.0   \n",
      "15   Audi  A4 3.0 Quattro convertible 2dr   Sedan  Europe        All  44240.0   \n",
      "16   Audi        A6 2.7 Turbo Quattro 4dr   Sedan  Europe        All  42840.0   \n",
      "17   Audi              A6 4.2 Quattro 4dr   Sedan  Europe        All  49690.0   \n",
      "18   Audi                A8 L Quattro 4dr   Sedan  Europe        All  69190.0   \n",
      "19   Audi                  S4 Quattro 4dr   Sedan  Europe        All  48040.0   \n",
      "20   Audi                        RS 6 4dr  Sports  Europe      Front  84600.0   \n",
      "21   Audi  TT 1.8 convertible 2dr (coupe)  Sports  Europe      Front  35940.0   \n",
      "\n",
      "    Invoice  EngineSize  Cylinders  Horsepower  MPG_City  MPG_Highway  Weight  \\\n",
      "0   33337.0         3.5        6.0       265.0      17.0         23.0  4451.0   \n",
      "1   21761.0         2.0        4.0       200.0      24.0         31.0  2778.0   \n",
      "2   24647.0         2.4        4.0       200.0      22.0         29.0  3230.0   \n",
      "3   30299.0         3.2        6.0       270.0      20.0         28.0  3575.0   \n",
      "4   39014.0         3.5        6.0       225.0      18.0         24.0  3880.0   \n",
      "5   41100.0         3.5        6.0       225.0      18.0         24.0  3893.0   \n",
      "6   79978.0         3.2        6.0       290.0      17.0         24.0  3153.0   \n",
      "7   23508.0         1.8        4.0       170.0      22.0         31.0  3252.0   \n",
      "8   32506.0         1.8        4.0       170.0      23.0         30.0  3638.0   \n",
      "9   28846.0         3.0        6.0       220.0      20.0         28.0  3462.0   \n",
      "10  30366.0         3.0        6.0       220.0      17.0         26.0  3583.0   \n",
      "11  31388.0         3.0        6.0       220.0      18.0         25.0  3627.0   \n",
      "12  33129.0         3.0        6.0       220.0      20.0         27.0  3561.0   \n",
      "13  35992.0         3.0        6.0       220.0      18.0         25.0  3880.0   \n",
      "14  38325.0         3.0        6.0       220.0      20.0         27.0  3814.0   \n",
      "15  40075.0         3.0        6.0       220.0      18.0         25.0  4013.0   \n",
      "16  38840.0         2.7        6.0       250.0      18.0         25.0  3836.0   \n",
      "17  44936.0         4.2        8.0       300.0      17.0         24.0  4024.0   \n",
      "18  64740.0         4.2        8.0       330.0      17.0         24.0  4399.0   \n",
      "19  43556.0         4.2        8.0       340.0      14.0         20.0  3825.0   \n",
      "20  76417.0         4.2        8.0       450.0      15.0         22.0  4024.0   \n",
      "21  32512.0         1.8        4.0       180.0      20.0         28.0  3131.0   \n",
      "\n",
      "    Wheelbase  Length  \n",
      "0       106.0   189.0  \n",
      "1       101.0   172.0  \n",
      "2       105.0   183.0  \n",
      "3       108.0   186.0  \n",
      "4       115.0   197.0  \n",
      "5       115.0   197.0  \n",
      "6       100.0   174.0  \n",
      "7       104.0   179.0  \n",
      "8       105.0   180.0  \n",
      "9       104.0   179.0  \n",
      "10      104.0   179.0  \n",
      "11      104.0   179.0  \n",
      "12      109.0   192.0  \n",
      "13      109.0   192.0  \n",
      "14      105.0   180.0  \n",
      "15      105.0   180.0  \n",
      "16      109.0   192.0  \n",
      "17      109.0   193.0  \n",
      "18      121.0   204.0  \n",
      "19      104.0   179.0  \n",
      "20      109.0   191.0  \n",
      "21       95.0   159.0  \n"
     ]
    }
   ],
   "source": [
    "print(zaky[:22])"
   ]
  },
  {
   "cell_type": "code",
   "execution_count": 9,
   "id": "fa17c2b4",
   "metadata": {},
   "outputs": [
    {
     "name": "stdout",
     "output_type": "stream",
     "text": [
      "0        SUV\n",
      "1      Sedan\n",
      "2      Sedan\n",
      "3      Sedan\n",
      "4      Sedan\n",
      "       ...  \n",
      "423    Sedan\n",
      "424    Sedan\n",
      "425    Sedan\n",
      "426    Wagon\n",
      "427    Wagon\n",
      "Name: Type, Length: 428, dtype: object\n"
     ]
    }
   ],
   "source": [
    "print(zaky['Type'])"
   ]
  },
  {
   "cell_type": "code",
   "execution_count": 11,
   "id": "fb46738a",
   "metadata": {},
   "outputs": [
    {
     "name": "stdout",
     "output_type": "stream",
     "text": [
      "      Type  Origin\n",
      "0      SUV    Asia\n",
      "1    Sedan    Asia\n",
      "2    Sedan    Asia\n",
      "3    Sedan    Asia\n",
      "4    Sedan    Asia\n",
      "..     ...     ...\n",
      "423  Sedan  Europe\n",
      "424  Sedan  Europe\n",
      "425  Sedan  Europe\n",
      "426  Wagon  Europe\n",
      "427  Wagon  Europe\n",
      "\n",
      "[428 rows x 2 columns]\n"
     ]
    }
   ],
   "source": [
    "print(zaky.loc[:,['Type','Origin']])"
   ]
  },
  {
   "cell_type": "code",
   "execution_count": null,
   "id": "35186cb2",
   "metadata": {},
   "outputs": [],
   "source": []
  }
 ],
 "metadata": {
  "kernelspec": {
   "display_name": "Python 3 (ipykernel)",
   "language": "python",
   "name": "python3"
  },
  "language_info": {
   "codemirror_mode": {
    "name": "ipython",
    "version": 3
   },
   "file_extension": ".py",
   "mimetype": "text/x-python",
   "name": "python",
   "nbconvert_exporter": "python",
   "pygments_lexer": "ipython3",
   "version": "3.7.13"
  }
 },
 "nbformat": 4,
 "nbformat_minor": 5
}
