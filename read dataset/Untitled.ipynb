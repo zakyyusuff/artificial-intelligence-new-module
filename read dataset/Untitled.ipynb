{
 "cells": [
  {
   "cell_type": "code",
   "execution_count": 1,
   "id": "53f06209",
   "metadata": {},
   "outputs": [],
   "source": [
    "import pandas as pd\n",
    "import numpy as np"
   ]
  },
  {
   "cell_type": "code",
   "execution_count": 5,
   "id": "26195764",
   "metadata": {},
   "outputs": [
    {
     "name": "stdout",
     "output_type": "stream",
     "text": [
      "      Make                    Model   Type  Origin DriveTrain     MSRP  \\\n",
      "0    Acura                      MDX    SUV    Asia        All  36945.0   \n",
      "1    Acura           RSX Type S 2dr  Sedan    Asia      Front  23820.0   \n",
      "2    Acura                  TSX 4dr  Sedan    Asia      Front  26990.0   \n",
      "3    Acura                   TL 4dr  Sedan    Asia      Front  33195.0   \n",
      "4    Acura               3.5 RL 4dr  Sedan    Asia      Front  43755.0   \n",
      "..     ...                      ...    ...     ...        ...      ...   \n",
      "423  Volvo  C70 LPT convertible 2dr  Sedan  Europe      Front  40565.0   \n",
      "424  Volvo  C70 HPT convertible 2dr  Sedan  Europe      Front  42565.0   \n",
      "425  Volvo               S80 T6 4dr  Sedan  Europe      Front  45210.0   \n",
      "426  Volvo                      V40  Wagon  Europe      Front  26135.0   \n",
      "427  Volvo                     XC70  Wagon  Europe        All  35145.0   \n",
      "\n",
      "     Invoice  EngineSize  Cylinders  Horsepower  MPG_City  MPG_Highway  \\\n",
      "0    33337.0         3.5        6.0       265.0      17.0         23.0   \n",
      "1    21761.0         2.0        4.0       200.0      24.0         31.0   \n",
      "2    24647.0         2.4        4.0       200.0      22.0         29.0   \n",
      "3    30299.0         3.2        6.0       270.0      20.0         28.0   \n",
      "4    39014.0         3.5        6.0       225.0      18.0         24.0   \n",
      "..       ...         ...        ...         ...       ...          ...   \n",
      "423  38203.0         2.4        5.0       197.0      21.0         28.0   \n",
      "424  40083.0         2.3        5.0       242.0      20.0         26.0   \n",
      "425  42573.0         2.9        6.0       268.0      19.0         26.0   \n",
      "426  24641.0         1.9        4.0       170.0      22.0         29.0   \n",
      "427  33112.0         2.5        5.0       208.0      20.0         27.0   \n",
      "\n",
      "     Weight  Wheelbase  Length  \n",
      "0    4451.0      106.0   189.0  \n",
      "1    2778.0      101.0   172.0  \n",
      "2    3230.0      105.0   183.0  \n",
      "3    3575.0      108.0   186.0  \n",
      "4    3880.0      115.0   197.0  \n",
      "..      ...        ...     ...  \n",
      "423  3450.0      105.0   186.0  \n",
      "424  3450.0      105.0   186.0  \n",
      "425  3653.0      110.0   190.0  \n",
      "426  2822.0      101.0   180.0  \n",
      "427  3823.0      109.0   186.0  \n",
      "\n",
      "[428 rows x 15 columns]\n"
     ]
    }
   ],
   "source": [
    "zaky = pd.read_csv('./cars.csv')\n",
    "print(zaky)"
   ]
  },
  {
   "cell_type": "code",
   "execution_count": 6,
   "id": "dbd2afad",
   "metadata": {},
   "outputs": [
    {
     "name": "stdout",
     "output_type": "stream",
     "text": [
      "    Make Model Type Origin DriveTrain     MSRP  Invoice  EngineSize  \\\n",
      "0  Acura   MDX  SUV   Asia        All  36945.0  33337.0         3.5   \n",
      "\n",
      "   Cylinders  Horsepower  MPG_City  MPG_Highway  Weight  Wheelbase  Length  \n",
      "0        6.0       265.0      17.0         23.0  4451.0      106.0   189.0  \n"
     ]
    }
   ],
   "source": [
    "# tambahkan line code di bawah ini pada file id \n",
    "print(zaky[:1])"
   ]
  },
  {
   "cell_type": "code",
   "execution_count": 9,
   "id": "68e01042",
   "metadata": {},
   "outputs": [
    {
     "name": "stdout",
     "output_type": "stream",
     "text": [
      "0        SUV\n",
      "1      Sedan\n",
      "2      Sedan\n",
      "3      Sedan\n",
      "4      Sedan\n",
      "       ...  \n",
      "423    Sedan\n",
      "424    Sedan\n",
      "425    Sedan\n",
      "426    Wagon\n",
      "427    Wagon\n",
      "Name: Type, Length: 428, dtype: object\n"
     ]
    }
   ],
   "source": [
    "# kita akan mencoba membaca nama department pada csv file tersebut.\n",
    "print(zaky['Type'])"
   ]
  },
  {
   "cell_type": "code",
   "execution_count": 11,
   "id": "357c5b30",
   "metadata": {},
   "outputs": [
    {
     "name": "stdout",
     "output_type": "stream",
     "text": [
      "                       Model  Origin\n",
      "0                        MDX    Asia\n",
      "1             RSX Type S 2dr    Asia\n",
      "2                    TSX 4dr    Asia\n",
      "3                     TL 4dr    Asia\n",
      "4                 3.5 RL 4dr    Asia\n",
      "..                       ...     ...\n",
      "423  C70 LPT convertible 2dr  Europe\n",
      "424  C70 HPT convertible 2dr  Europe\n",
      "425               S80 T6 4dr  Europe\n",
      "426                      V40  Europe\n",
      "427                     XC70  Europe\n",
      "\n",
      "[428 rows x 2 columns]\n"
     ]
    }
   ],
   "source": [
    "#Pada baris di atas kita menggunakan .loc untuk mencari column yang lebih spesifik. \n",
    "#Sedangkan : adalah perintah untuk mencari dari awal hingga akhir file tersebut berada.\n",
    "print (zaky.loc[:,['Model', 'Origin']])"
   ]
  },
  {
   "cell_type": "code",
   "execution_count": null,
   "id": "96bd6228",
   "metadata": {},
   "outputs": [],
   "source": []
  }
 ],
 "metadata": {
  "kernelspec": {
   "display_name": "Python 3 (ipykernel)",
   "language": "python",
   "name": "python3"
  },
  "language_info": {
   "codemirror_mode": {
    "name": "ipython",
    "version": 3
   },
   "file_extension": ".py",
   "mimetype": "text/x-python",
   "name": "python",
   "nbconvert_exporter": "python",
   "pygments_lexer": "ipython3",
   "version": "3.7.13"
  }
 },
 "nbformat": 4,
 "nbformat_minor": 5
}
